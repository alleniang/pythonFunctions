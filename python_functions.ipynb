{
 "cells": [
  {
   "cell_type": "markdown",
   "id": "a71c1fe4",
   "metadata": {},
   "source": [
    "# Question 1"
   ]
  },
  {
   "cell_type": "code",
   "execution_count": 2,
   "id": "13a4bf72",
   "metadata": {},
   "outputs": [
    {
     "name": "stdout",
     "output_type": "stream",
     "text": [
      "43\n"
     ]
    }
   ],
   "source": [
    "def maximum(a, b, c):\n",
    "    if (a >= b) and (a >= c):\n",
    "        largest = a\n",
    "    elif (b >= a) and (b >= c):\n",
    "        largest = b\n",
    "    else:\n",
    "        largest = c  \n",
    "    return largest\n",
    "\n",
    "print(maximum(34, 43, 25))"
   ]
  },
  {
   "cell_type": "markdown",
   "id": "01977821",
   "metadata": {},
   "source": [
    "# Question 2"
   ]
  },
  {
   "cell_type": "code",
   "execution_count": 10,
   "id": "f808a287",
   "metadata": {},
   "outputs": [
    {
     "data": {
      "text/plain": [
       "(50, 30)"
      ]
     },
     "execution_count": 10,
     "metadata": {},
     "output_type": "execute_result"
    }
   ],
   "source": [
    "def calcul(a, b):\n",
    "    somme = a+b\n",
    "    dif = a-b\n",
    "    return somme, dif\n",
    "\n",
    "calcul(40,10)"
   ]
  },
  {
   "cell_type": "markdown",
   "id": "d495545a",
   "metadata": {},
   "source": [
    "# Question 3"
   ]
  },
  {
   "cell_type": "code",
   "execution_count": 23,
   "id": "df36447e",
   "metadata": {},
   "outputs": [
    {
     "name": "stdout",
     "output_type": "stream",
     "text": [
      "La somme des éléments de la première liste est 53\n",
      "Le produit des éléments de la première liste est 1478400\n",
      "La liste des index pairs est [2, 7, 11, 10] et leur somme est 30\n",
      "La liste des index impairs est [5, 4, 8, 6] et leur produit est 960\n"
     ]
    }
   ],
   "source": [
    "def somme(liste):\n",
    "    som = 0\n",
    "    for i in liste:\n",
    "        som += i\n",
    "    return som\n",
    "\n",
    "def produit(liste):\n",
    "    prod = 1\n",
    "    for i in liste:\n",
    "        prod *= i\n",
    "    return prod\n",
    "\n",
    "def extract(liste):\n",
    "    liste_pair = []\n",
    "    liste_impair = []\n",
    "    for i in liste:\n",
    "        if liste.index(i) == 0 or liste.index(i)%2 == 0:\n",
    "            liste_pair.append(i)\n",
    "        else:\n",
    "            liste_impair.append(i)\n",
    "    return liste_pair, liste_impair\n",
    "\n",
    "my_liste = [2, 5, 7, 4, 11, 8, 10, 6]\n",
    "print(\"La somme des éléments de la première liste est\",somme(my_liste))\n",
    "print(\"Le produit des éléments de la première liste est\",produit(my_liste))\n",
    "print(\"La liste des index pairs est\",extract(my_liste)[0],\"et leur somme est\",somme(extract(my_liste)[0]))\n",
    "print(\"La liste des index impairs est\",extract(my_liste)[1],\"et leur produit est\",produit(extract(my_liste)[1]))"
   ]
  },
  {
   "cell_type": "markdown",
   "id": "799332f2",
   "metadata": {},
   "source": [
    "# Question 4"
   ]
  },
  {
   "cell_type": "code",
   "execution_count": 26,
   "id": "93f6d4a2",
   "metadata": {},
   "outputs": [
    {
     "name": "stdout",
     "output_type": "stream",
     "text": [
      "Saisir une séquence de mots: vert-rouge-jaune-noir-blanc\n",
      "Résultat après tri:  blanc-jaune-noir-rouge-vert\n"
     ]
    }
   ],
   "source": [
    "n=input(\"Saisir une séquence de mots: \")\n",
    "a=n.split('-')\n",
    "a.sort()\n",
    "print(\"Résultat après tri: \",'-'.join(a))"
   ]
  },
  {
   "cell_type": "code",
   "execution_count": null,
   "id": "60290b89",
   "metadata": {},
   "outputs": [],
   "source": []
  }
 ],
 "metadata": {
  "kernelspec": {
   "display_name": "Python 3 (ipykernel)",
   "language": "python",
   "name": "python3"
  },
  "language_info": {
   "codemirror_mode": {
    "name": "ipython",
    "version": 3
   },
   "file_extension": ".py",
   "mimetype": "text/x-python",
   "name": "python",
   "nbconvert_exporter": "python",
   "pygments_lexer": "ipython3",
   "version": "3.9.7"
  }
 },
 "nbformat": 4,
 "nbformat_minor": 5
}
